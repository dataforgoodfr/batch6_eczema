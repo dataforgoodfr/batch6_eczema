{
 "cells": [
  {
   "cell_type": "code",
   "execution_count": 1,
   "metadata": {},
   "outputs": [
    {
     "name": "stderr",
     "output_type": "stream",
     "text": [
      "C:\\Users\\skander\\Anaconda3\\lib\\site-packages\\sklearn\\ensemble\\weight_boosting.py:29: DeprecationWarning: numpy.core.umath_tests is an internal NumPy module and should not be imported. It will be removed in a future NumPy release.\n",
      "  from numpy.core.umath_tests import inner1d\n"
     ]
    }
   ],
   "source": [
    "import pandas as pd\n",
    "import numpy as np\n",
    "import matplotlib.pyplot as plt\n",
    "from sklearn.model_selection import GridSearchCV\n",
    "from sklearn.linear_model import Lasso\n",
    "from sklearn.model_selection import cross_val_score\n",
    "from sklearn.feature_selection import VarianceThreshold, SelectKBest, f_regression\n",
    "\n",
    "import seaborn as sns\n",
    "\n",
    "from sklearn.model_selection import train_test_split\n",
    "from sklearn.linear_model import Ridge\n",
    "from sklearn.metrics import r2_score, mean_squared_error\n",
    "from sklearn.ensemble import ExtraTreesRegressor"
   ]
  },
  {
   "cell_type": "code",
   "execution_count": 2,
   "metadata": {},
   "outputs": [],
   "source": [
    "df_arn = pd.read_csv('donnees brutes/MAARS_normTranscriptome_618samples_16042014.txt', sep='\\t').T # donnees de transcriptome\n",
    "df_clin = pd.read_csv('encoded/MAARS_AD_full_20190131_12-34-49_new_cols_encoded.csv', sep=',') # donnees cliniques"
   ]
  },
  {
   "cell_type": "code",
   "execution_count": 3,
   "metadata": {},
   "outputs": [],
   "source": [
    "df_clin = df_clin[['involved_skin_biopsy->MAARS_Sample_identifier','uninvolved_skin_biopsy->MAARS_Sample_identifier','patient->SCORAD_index->SCORAD->SCORAD_Score']]\n",
    "df_clin.columns = ['id_les', 'id_non_les', 'scorad']"
   ]
  },
  {
   "cell_type": "code",
   "execution_count": 4,
   "metadata": {},
   "outputs": [],
   "source": [
    "df_temp_les = df_clin[['id_les', 'scorad']]\n",
    "df_temp_non_les = df_clin[['id_non_les', 'scorad']]\n",
    "\n",
    "#df_temp_les = df_temp.append(df_temp2)\n",
    "df_temp_les.set_index(['id_les'], inplace=True)\n",
    "\n",
    "df_arn_ad = df_temp_les.join(df_arn).dropna()"
   ]
  },
  {
   "cell_type": "code",
   "execution_count": 5,
   "metadata": {},
   "outputs": [
    {
     "data": {
      "text/html": [
       "<div>\n",
       "<style scoped>\n",
       "    .dataframe tbody tr th:only-of-type {\n",
       "        vertical-align: middle;\n",
       "    }\n",
       "\n",
       "    .dataframe tbody tr th {\n",
       "        vertical-align: top;\n",
       "    }\n",
       "\n",
       "    .dataframe thead th {\n",
       "        text-align: right;\n",
       "    }\n",
       "</style>\n",
       "<table border=\"1\" class=\"dataframe\">\n",
       "  <thead>\n",
       "    <tr style=\"text-align: right;\">\n",
       "      <th></th>\n",
       "      <th>scorad</th>\n",
       "      <th>ENSG00000000003_at</th>\n",
       "      <th>ENSG00000000005_at</th>\n",
       "      <th>ENSG00000000419_at</th>\n",
       "      <th>ENSG00000000457_at</th>\n",
       "      <th>ENSG00000000460_at</th>\n",
       "      <th>ENSG00000000938_at</th>\n",
       "      <th>ENSG00000000971_at</th>\n",
       "      <th>ENSG00000001036_at</th>\n",
       "      <th>ENSG00000001084_at</th>\n",
       "      <th>...</th>\n",
       "      <th>ENSG00000266786_at</th>\n",
       "      <th>ENSG00000266795_at</th>\n",
       "      <th>ENSG00000266824_at</th>\n",
       "      <th>ENSG00000266835_at</th>\n",
       "      <th>ENSG00000266844_at</th>\n",
       "      <th>ENSG00000266852_at</th>\n",
       "      <th>ENSG00000266855_at</th>\n",
       "      <th>ENSG00000266865_at</th>\n",
       "      <th>ENSG00000266869_at</th>\n",
       "      <th>ENSG00000266877_at</th>\n",
       "    </tr>\n",
       "    <tr>\n",
       "      <th>id_les</th>\n",
       "      <th></th>\n",
       "      <th></th>\n",
       "      <th></th>\n",
       "      <th></th>\n",
       "      <th></th>\n",
       "      <th></th>\n",
       "      <th></th>\n",
       "      <th></th>\n",
       "      <th></th>\n",
       "      <th></th>\n",
       "      <th></th>\n",
       "      <th></th>\n",
       "      <th></th>\n",
       "      <th></th>\n",
       "      <th></th>\n",
       "      <th></th>\n",
       "      <th></th>\n",
       "      <th></th>\n",
       "      <th></th>\n",
       "      <th></th>\n",
       "      <th></th>\n",
       "    </tr>\n",
       "  </thead>\n",
       "  <tbody>\n",
       "    <tr>\n",
       "      <th>MAARS_1_003_03</th>\n",
       "      <td>43.5</td>\n",
       "      <td>7.139</td>\n",
       "      <td>4.285</td>\n",
       "      <td>9.363</td>\n",
       "      <td>7.097</td>\n",
       "      <td>6.054</td>\n",
       "      <td>4.635</td>\n",
       "      <td>9.364</td>\n",
       "      <td>7.803</td>\n",
       "      <td>6.993</td>\n",
       "      <td>...</td>\n",
       "      <td>2.963</td>\n",
       "      <td>2.264</td>\n",
       "      <td>2.517</td>\n",
       "      <td>2.612</td>\n",
       "      <td>3.441</td>\n",
       "      <td>5.091</td>\n",
       "      <td>1.622</td>\n",
       "      <td>5.336</td>\n",
       "      <td>2.577</td>\n",
       "      <td>3.714</td>\n",
       "    </tr>\n",
       "    <tr>\n",
       "      <th>MAARS_1_008_03</th>\n",
       "      <td>57.5</td>\n",
       "      <td>7.282</td>\n",
       "      <td>4.058</td>\n",
       "      <td>9.427</td>\n",
       "      <td>7.043</td>\n",
       "      <td>6.025</td>\n",
       "      <td>4.449</td>\n",
       "      <td>8.690</td>\n",
       "      <td>7.116</td>\n",
       "      <td>7.299</td>\n",
       "      <td>...</td>\n",
       "      <td>2.850</td>\n",
       "      <td>1.798</td>\n",
       "      <td>2.600</td>\n",
       "      <td>2.648</td>\n",
       "      <td>3.424</td>\n",
       "      <td>4.887</td>\n",
       "      <td>1.734</td>\n",
       "      <td>5.215</td>\n",
       "      <td>2.771</td>\n",
       "      <td>3.941</td>\n",
       "    </tr>\n",
       "    <tr>\n",
       "      <th>MAARS_1_016_03</th>\n",
       "      <td>73.0</td>\n",
       "      <td>7.441</td>\n",
       "      <td>3.881</td>\n",
       "      <td>9.597</td>\n",
       "      <td>6.990</td>\n",
       "      <td>6.336</td>\n",
       "      <td>5.228</td>\n",
       "      <td>8.499</td>\n",
       "      <td>7.364</td>\n",
       "      <td>6.809</td>\n",
       "      <td>...</td>\n",
       "      <td>3.283</td>\n",
       "      <td>1.770</td>\n",
       "      <td>2.496</td>\n",
       "      <td>2.789</td>\n",
       "      <td>3.493</td>\n",
       "      <td>4.475</td>\n",
       "      <td>1.720</td>\n",
       "      <td>5.377</td>\n",
       "      <td>2.410</td>\n",
       "      <td>4.348</td>\n",
       "    </tr>\n",
       "    <tr>\n",
       "      <th>MAARS_1_017_03</th>\n",
       "      <td>78.5</td>\n",
       "      <td>7.019</td>\n",
       "      <td>3.571</td>\n",
       "      <td>10.010</td>\n",
       "      <td>6.993</td>\n",
       "      <td>5.692</td>\n",
       "      <td>4.850</td>\n",
       "      <td>8.728</td>\n",
       "      <td>6.634</td>\n",
       "      <td>7.053</td>\n",
       "      <td>...</td>\n",
       "      <td>3.050</td>\n",
       "      <td>2.704</td>\n",
       "      <td>2.450</td>\n",
       "      <td>2.641</td>\n",
       "      <td>3.318</td>\n",
       "      <td>5.427</td>\n",
       "      <td>1.684</td>\n",
       "      <td>5.374</td>\n",
       "      <td>2.326</td>\n",
       "      <td>4.172</td>\n",
       "    </tr>\n",
       "    <tr>\n",
       "      <th>MAARS_1_044_03</th>\n",
       "      <td>64.5</td>\n",
       "      <td>7.115</td>\n",
       "      <td>3.844</td>\n",
       "      <td>9.752</td>\n",
       "      <td>7.248</td>\n",
       "      <td>5.923</td>\n",
       "      <td>4.439</td>\n",
       "      <td>7.626</td>\n",
       "      <td>6.818</td>\n",
       "      <td>7.105</td>\n",
       "      <td>...</td>\n",
       "      <td>3.424</td>\n",
       "      <td>2.058</td>\n",
       "      <td>2.748</td>\n",
       "      <td>2.827</td>\n",
       "      <td>3.212</td>\n",
       "      <td>4.922</td>\n",
       "      <td>2.139</td>\n",
       "      <td>5.393</td>\n",
       "      <td>2.709</td>\n",
       "      <td>3.933</td>\n",
       "    </tr>\n",
       "  </tbody>\n",
       "</table>\n",
       "<p>5 rows × 32634 columns</p>\n",
       "</div>"
      ],
      "text/plain": [
       "                scorad  ENSG00000000003_at  ENSG00000000005_at  \\\n",
       "id_les                                                           \n",
       "MAARS_1_003_03    43.5               7.139               4.285   \n",
       "MAARS_1_008_03    57.5               7.282               4.058   \n",
       "MAARS_1_016_03    73.0               7.441               3.881   \n",
       "MAARS_1_017_03    78.5               7.019               3.571   \n",
       "MAARS_1_044_03    64.5               7.115               3.844   \n",
       "\n",
       "                ENSG00000000419_at  ENSG00000000457_at  ENSG00000000460_at  \\\n",
       "id_les                                                                       \n",
       "MAARS_1_003_03               9.363               7.097               6.054   \n",
       "MAARS_1_008_03               9.427               7.043               6.025   \n",
       "MAARS_1_016_03               9.597               6.990               6.336   \n",
       "MAARS_1_017_03              10.010               6.993               5.692   \n",
       "MAARS_1_044_03               9.752               7.248               5.923   \n",
       "\n",
       "                ENSG00000000938_at  ENSG00000000971_at  ENSG00000001036_at  \\\n",
       "id_les                                                                       \n",
       "MAARS_1_003_03               4.635               9.364               7.803   \n",
       "MAARS_1_008_03               4.449               8.690               7.116   \n",
       "MAARS_1_016_03               5.228               8.499               7.364   \n",
       "MAARS_1_017_03               4.850               8.728               6.634   \n",
       "MAARS_1_044_03               4.439               7.626               6.818   \n",
       "\n",
       "                ENSG00000001084_at         ...          ENSG00000266786_at  \\\n",
       "id_les                                     ...                               \n",
       "MAARS_1_003_03               6.993         ...                       2.963   \n",
       "MAARS_1_008_03               7.299         ...                       2.850   \n",
       "MAARS_1_016_03               6.809         ...                       3.283   \n",
       "MAARS_1_017_03               7.053         ...                       3.050   \n",
       "MAARS_1_044_03               7.105         ...                       3.424   \n",
       "\n",
       "                ENSG00000266795_at  ENSG00000266824_at  ENSG00000266835_at  \\\n",
       "id_les                                                                       \n",
       "MAARS_1_003_03               2.264               2.517               2.612   \n",
       "MAARS_1_008_03               1.798               2.600               2.648   \n",
       "MAARS_1_016_03               1.770               2.496               2.789   \n",
       "MAARS_1_017_03               2.704               2.450               2.641   \n",
       "MAARS_1_044_03               2.058               2.748               2.827   \n",
       "\n",
       "                ENSG00000266844_at  ENSG00000266852_at  ENSG00000266855_at  \\\n",
       "id_les                                                                       \n",
       "MAARS_1_003_03               3.441               5.091               1.622   \n",
       "MAARS_1_008_03               3.424               4.887               1.734   \n",
       "MAARS_1_016_03               3.493               4.475               1.720   \n",
       "MAARS_1_017_03               3.318               5.427               1.684   \n",
       "MAARS_1_044_03               3.212               4.922               2.139   \n",
       "\n",
       "                ENSG00000266865_at  ENSG00000266869_at  ENSG00000266877_at  \n",
       "id_les                                                                      \n",
       "MAARS_1_003_03               5.336               2.577               3.714  \n",
       "MAARS_1_008_03               5.215               2.771               3.941  \n",
       "MAARS_1_016_03               5.377               2.410               4.348  \n",
       "MAARS_1_017_03               5.374               2.326               4.172  \n",
       "MAARS_1_044_03               5.393               2.709               3.933  \n",
       "\n",
       "[5 rows x 32634 columns]"
      ]
     },
     "execution_count": 5,
     "metadata": {},
     "output_type": "execute_result"
    }
   ],
   "source": [
    "df_arn_ad.head()"
   ]
  },
  {
   "cell_type": "code",
   "execution_count": 6,
   "metadata": {},
   "outputs": [
    {
     "data": {
      "text/plain": [
       "(83, 32634)"
      ]
     },
     "execution_count": 6,
     "metadata": {},
     "output_type": "execute_result"
    }
   ],
   "source": [
    "df_arn_ad.shape"
   ]
  },
  {
   "cell_type": "markdown",
   "metadata": {},
   "source": [
    "# Variance Threshold"
   ]
  },
  {
   "cell_type": "code",
   "execution_count": 7,
   "metadata": {},
   "outputs": [
    {
     "data": {
      "text/plain": [
       "VarianceThreshold(threshold=0.0)"
      ]
     },
     "execution_count": 7,
     "metadata": {},
     "output_type": "execute_result"
    }
   ],
   "source": [
    "thr = VarianceThreshold()\n",
    "thr.fit(df_arn_ad)"
   ]
  },
  {
   "cell_type": "markdown",
   "metadata": {},
   "source": [
    "On représente le nombre de gènes en fonction d'un seuil de variance. (le nombre de gènes ayant une variance inférieure à ce seuil)"
   ]
  },
  {
   "cell_type": "code",
   "execution_count": 8,
   "metadata": {},
   "outputs": [],
   "source": [
    "def threshold(alpha):\n",
    "    thr = VarianceThreshold(alpha)\n",
    "    x = thr.fit_transform(df_arn_ad)\n",
    "    return x.shape[1]\n",
    "\n",
    "x_thr = np.linspace(0,2,501)\n",
    "y_thr = [df_arn_ad.shape[1]-threshold(x) for x in x_thr]"
   ]
  },
  {
   "cell_type": "code",
   "execution_count": 9,
   "metadata": {
    "scrolled": false
   },
   "outputs": [
    {
     "data": {
      "text/plain": [
       "Text(0.09,22000,'(0.069388, 21500)')"
      ]
     },
     "execution_count": 9,
     "metadata": {},
     "output_type": "execute_result"
    },
    {
     "data": {
      "image/png": "[encoded data removed]",
      "text/plain": [
       "<matplotlib.figure.Figure at 0x26ffa20edd8>"
      ]
     },
     "metadata": {
      "needs_background": "light"
     },
     "output_type": "display_data"
    }
   ],
   "source": [
    "fig, ax = plt.subplots(figsize=(10,8))\n",
    "\n",
    "sns.lineplot(x_thr, y_thr)\n",
    "ax.set_xlabel('Threshold', size = 15)\n",
    "ax.set_ylabel('Removed variables', size = 15)\n",
    "\n",
    "ax.axhline(21500,ls='--', color='red')\n",
    "plt.text(0.09, 22000, '(0.069388, 21500)')"
   ]
  },
  {
   "cell_type": "code",
   "execution_count": 20,
   "metadata": {
    "scrolled": true
   },
   "outputs": [
    {
     "data": {
      "text/plain": [
       "21500"
      ]
     },
     "execution_count": 20,
     "metadata": {},
     "output_type": "execute_result"
    }
   ],
   "source": [
    "df_arn_ad.shape[1] - threshold(0.069388)"
   ]
  },
  {
   "cell_type": "markdown",
   "metadata": {},
   "source": [
    "On choisit une threshold of variance de sorte à éliminer 21500 gènes"
   ]
  },
  {
   "cell_type": "code",
   "execution_count": 16,
   "metadata": {},
   "outputs": [],
   "source": [
    "chosen_thr = 0.069388\n",
    "thr = VarianceThreshold(chosen_thr)\n",
    "\n",
    "df_arn_ad_filtered = thr.fit_transform(df_arn_ad)"
   ]
  },
  {
   "cell_type": "code",
   "execution_count": 17,
   "metadata": {},
   "outputs": [],
   "source": [
    "useful_var_genes = [g for m, g in zip(thr.get_support(), df_arn_ad.columns.tolist()) if m]\n",
    "useless_var_genes = [g for m, g in zip(thr.get_support(), df_arn_ad.columns.tolist()) if not m]\n",
    "\n",
    "df_arn_ad_filtered = pd.DataFrame(df_arn_ad_filtered)\n",
    "df_arn_ad_filtered.columns = useful_var_genes\n",
    "df_arn_ad_filtered.index = df_arn_ad.index"
   ]
  },
  {
   "cell_type": "code",
   "execution_count": 18,
   "metadata": {},
   "outputs": [
    {
     "data": {
      "text/plain": [
       "(83, 11134)"
      ]
     },
     "execution_count": 18,
     "metadata": {},
     "output_type": "execute_result"
    }
   ],
   "source": [
    "df_arn_ad_filtered.shape"
   ]
  },
  {
   "cell_type": "code",
   "execution_count": 19,
   "metadata": {
    "scrolled": true
   },
   "outputs": [
    {
     "data": {
      "text/html": [
       "<div>\n",
       "<style scoped>\n",
       "    .dataframe tbody tr th:only-of-type {\n",
       "        vertical-align: middle;\n",
       "    }\n",
       "\n",
       "    .dataframe tbody tr th {\n",
       "        vertical-align: top;\n",
       "    }\n",
       "\n",
       "    .dataframe thead th {\n",
       "        text-align: right;\n",
       "    }\n",
       "</style>\n",
       "<table border=\"1\" class=\"dataframe\">\n",
       "  <thead>\n",
       "    <tr style=\"text-align: right;\">\n",
       "      <th></th>\n",
       "      <th>scorad</th>\n",
       "      <th>ENSG00000000003_at</th>\n",
       "      <th>ENSG00000000005_at</th>\n",
       "      <th>ENSG00000000460_at</th>\n",
       "      <th>ENSG00000000938_at</th>\n",
       "      <th>ENSG00000000971_at</th>\n",
       "      <th>ENSG00000001036_at</th>\n",
       "      <th>ENSG00000001561_at</th>\n",
       "      <th>ENSG00000001626_at</th>\n",
       "      <th>ENSG00000002016_at</th>\n",
       "      <th>...</th>\n",
       "      <th>ENSG00000266645_at</th>\n",
       "      <th>ENSG00000266665_at</th>\n",
       "      <th>ENSG00000266667_at</th>\n",
       "      <th>ENSG00000266705_at</th>\n",
       "      <th>ENSG00000266751_at</th>\n",
       "      <th>ENSG00000266786_at</th>\n",
       "      <th>ENSG00000266795_at</th>\n",
       "      <th>ENSG00000266824_at</th>\n",
       "      <th>ENSG00000266852_at</th>\n",
       "      <th>ENSG00000266877_at</th>\n",
       "    </tr>\n",
       "    <tr>\n",
       "      <th>id_les</th>\n",
       "      <th></th>\n",
       "      <th></th>\n",
       "      <th></th>\n",
       "      <th></th>\n",
       "      <th></th>\n",
       "      <th></th>\n",
       "      <th></th>\n",
       "      <th></th>\n",
       "      <th></th>\n",
       "      <th></th>\n",
       "      <th></th>\n",
       "      <th></th>\n",
       "      <th></th>\n",
       "      <th></th>\n",
       "      <th></th>\n",
       "      <th></th>\n",
       "      <th></th>\n",
       "      <th></th>\n",
       "      <th></th>\n",
       "      <th></th>\n",
       "      <th></th>\n",
       "    </tr>\n",
       "  </thead>\n",
       "  <tbody>\n",
       "    <tr>\n",
       "      <th>MAARS_1_003_03</th>\n",
       "      <td>43.5</td>\n",
       "      <td>7.139</td>\n",
       "      <td>4.285</td>\n",
       "      <td>6.054</td>\n",
       "      <td>4.635</td>\n",
       "      <td>9.364</td>\n",
       "      <td>7.803</td>\n",
       "      <td>6.234</td>\n",
       "      <td>4.689</td>\n",
       "      <td>6.114</td>\n",
       "      <td>...</td>\n",
       "      <td>2.892</td>\n",
       "      <td>3.065</td>\n",
       "      <td>3.142</td>\n",
       "      <td>3.001</td>\n",
       "      <td>5.948</td>\n",
       "      <td>2.963</td>\n",
       "      <td>2.264</td>\n",
       "      <td>2.517</td>\n",
       "      <td>5.091</td>\n",
       "      <td>3.714</td>\n",
       "    </tr>\n",
       "    <tr>\n",
       "      <th>MAARS_1_008_03</th>\n",
       "      <td>57.5</td>\n",
       "      <td>7.282</td>\n",
       "      <td>4.058</td>\n",
       "      <td>6.025</td>\n",
       "      <td>4.449</td>\n",
       "      <td>8.690</td>\n",
       "      <td>7.116</td>\n",
       "      <td>5.761</td>\n",
       "      <td>4.262</td>\n",
       "      <td>6.199</td>\n",
       "      <td>...</td>\n",
       "      <td>2.739</td>\n",
       "      <td>3.339</td>\n",
       "      <td>3.542</td>\n",
       "      <td>2.669</td>\n",
       "      <td>6.092</td>\n",
       "      <td>2.850</td>\n",
       "      <td>1.798</td>\n",
       "      <td>2.600</td>\n",
       "      <td>4.887</td>\n",
       "      <td>3.941</td>\n",
       "    </tr>\n",
       "    <tr>\n",
       "      <th>MAARS_1_016_03</th>\n",
       "      <td>73.0</td>\n",
       "      <td>7.441</td>\n",
       "      <td>3.881</td>\n",
       "      <td>6.336</td>\n",
       "      <td>5.228</td>\n",
       "      <td>8.499</td>\n",
       "      <td>7.364</td>\n",
       "      <td>5.987</td>\n",
       "      <td>4.254</td>\n",
       "      <td>6.510</td>\n",
       "      <td>...</td>\n",
       "      <td>2.852</td>\n",
       "      <td>3.923</td>\n",
       "      <td>3.206</td>\n",
       "      <td>2.977</td>\n",
       "      <td>6.453</td>\n",
       "      <td>3.283</td>\n",
       "      <td>1.770</td>\n",
       "      <td>2.496</td>\n",
       "      <td>4.475</td>\n",
       "      <td>4.348</td>\n",
       "    </tr>\n",
       "    <tr>\n",
       "      <th>MAARS_1_017_03</th>\n",
       "      <td>78.5</td>\n",
       "      <td>7.019</td>\n",
       "      <td>3.571</td>\n",
       "      <td>5.692</td>\n",
       "      <td>4.850</td>\n",
       "      <td>8.728</td>\n",
       "      <td>6.634</td>\n",
       "      <td>5.644</td>\n",
       "      <td>5.132</td>\n",
       "      <td>5.859</td>\n",
       "      <td>...</td>\n",
       "      <td>3.267</td>\n",
       "      <td>4.344</td>\n",
       "      <td>2.936</td>\n",
       "      <td>3.744</td>\n",
       "      <td>6.388</td>\n",
       "      <td>3.050</td>\n",
       "      <td>2.704</td>\n",
       "      <td>2.450</td>\n",
       "      <td>5.427</td>\n",
       "      <td>4.172</td>\n",
       "    </tr>\n",
       "    <tr>\n",
       "      <th>MAARS_1_044_03</th>\n",
       "      <td>64.5</td>\n",
       "      <td>7.115</td>\n",
       "      <td>3.844</td>\n",
       "      <td>5.923</td>\n",
       "      <td>4.439</td>\n",
       "      <td>7.626</td>\n",
       "      <td>6.818</td>\n",
       "      <td>4.710</td>\n",
       "      <td>3.965</td>\n",
       "      <td>6.169</td>\n",
       "      <td>...</td>\n",
       "      <td>3.160</td>\n",
       "      <td>4.056</td>\n",
       "      <td>2.474</td>\n",
       "      <td>3.008</td>\n",
       "      <td>6.303</td>\n",
       "      <td>3.424</td>\n",
       "      <td>2.058</td>\n",
       "      <td>2.748</td>\n",
       "      <td>4.922</td>\n",
       "      <td>3.933</td>\n",
       "    </tr>\n",
       "  </tbody>\n",
       "</table>\n",
       "<p>5 rows × 11134 columns</p>\n",
       "</div>"
      ],
      "text/plain": [
       "                scorad  ENSG00000000003_at  ENSG00000000005_at  \\\n",
       "id_les                                                           \n",
       "MAARS_1_003_03    43.5               7.139               4.285   \n",
       "MAARS_1_008_03    57.5               7.282               4.058   \n",
       "MAARS_1_016_03    73.0               7.441               3.881   \n",
       "MAARS_1_017_03    78.5               7.019               3.571   \n",
       "MAARS_1_044_03    64.5               7.115               3.844   \n",
       "\n",
       "                ENSG00000000460_at  ENSG00000000938_at  ENSG00000000971_at  \\\n",
       "id_les                                                                       \n",
       "MAARS_1_003_03               6.054               4.635               9.364   \n",
       "MAARS_1_008_03               6.025               4.449               8.690   \n",
       "MAARS_1_016_03               6.336               5.228               8.499   \n",
       "MAARS_1_017_03               5.692               4.850               8.728   \n",
       "MAARS_1_044_03               5.923               4.439               7.626   \n",
       "\n",
       "                ENSG00000001036_at  ENSG00000001561_at  ENSG00000001626_at  \\\n",
       "id_les                                                                       \n",
       "MAARS_1_003_03               7.803               6.234               4.689   \n",
       "MAARS_1_008_03               7.116               5.761               4.262   \n",
       "MAARS_1_016_03               7.364               5.987               4.254   \n",
       "MAARS_1_017_03               6.634               5.644               5.132   \n",
       "MAARS_1_044_03               6.818               4.710               3.965   \n",
       "\n",
       "                ENSG00000002016_at         ...          ENSG00000266645_at  \\\n",
       "id_les                                     ...                               \n",
       "MAARS_1_003_03               6.114         ...                       2.892   \n",
       "MAARS_1_008_03               6.199         ...                       2.739   \n",
       "MAARS_1_016_03               6.510         ...                       2.852   \n",
       "MAARS_1_017_03               5.859         ...                       3.267   \n",
       "MAARS_1_044_03               6.169         ...                       3.160   \n",
       "\n",
       "                ENSG00000266665_at  ENSG00000266667_at  ENSG00000266705_at  \\\n",
       "id_les                                                                       \n",
       "MAARS_1_003_03               3.065               3.142               3.001   \n",
       "MAARS_1_008_03               3.339               3.542               2.669   \n",
       "MAARS_1_016_03               3.923               3.206               2.977   \n",
       "MAARS_1_017_03               4.344               2.936               3.744   \n",
       "MAARS_1_044_03               4.056               2.474               3.008   \n",
       "\n",
       "                ENSG00000266751_at  ENSG00000266786_at  ENSG00000266795_at  \\\n",
       "id_les                                                                       \n",
       "MAARS_1_003_03               5.948               2.963               2.264   \n",
       "MAARS_1_008_03               6.092               2.850               1.798   \n",
       "MAARS_1_016_03               6.453               3.283               1.770   \n",
       "MAARS_1_017_03               6.388               3.050               2.704   \n",
       "MAARS_1_044_03               6.303               3.424               2.058   \n",
       "\n",
       "                ENSG00000266824_at  ENSG00000266852_at  ENSG00000266877_at  \n",
       "id_les                                                                      \n",
       "MAARS_1_003_03               2.517               5.091               3.714  \n",
       "MAARS_1_008_03               2.600               4.887               3.941  \n",
       "MAARS_1_016_03               2.496               4.475               4.348  \n",
       "MAARS_1_017_03               2.450               5.427               4.172  \n",
       "MAARS_1_044_03               2.748               4.922               3.933  \n",
       "\n",
       "[5 rows x 11134 columns]"
      ]
     },
     "execution_count": 19,
     "metadata": {},
     "output_type": "execute_result"
    }
   ],
   "source": [
    "df_arn_ad_filtered.head()"
   ]
  },
  {
   "cell_type": "markdown",
   "metadata": {},
   "source": [
    "# Test Stat : f_regression"
   ]
  },
  {
   "cell_type": "markdown",
   "metadata": {},
   "source": [
    "On teste l'influence des gènes sur le scorad par un test statistique et on représente la distribution du score résultant de ce test"
   ]
  },
  {
   "cell_type": "code",
   "execution_count": 20,
   "metadata": {},
   "outputs": [],
   "source": [
    "k_best = SelectKBest(f_regression, k = 200)\n",
    "df_filtered_two = k_best.fit_transform(df_arn_ad_filtered.iloc[:,1:], df_arn_ad_filtered.iloc[:,0])"
   ]
  },
  {
   "cell_type": "code",
   "execution_count": 27,
   "metadata": {},
   "outputs": [
    {
     "data": {
      "text/plain": [
       "Text(2.4,0.12,'(2.24, 0.112)')"
      ]
     },
     "execution_count": 27,
     "metadata": {},
     "output_type": "execute_result"
    },
    {
     "data": {
      "image/png": "[encoded data removed]",
      "text/plain": [
       "<matplotlib.figure.Figure at 0x26ffc54c198>"
      ]
     },
     "metadata": {
      "needs_background": "light"
     },
     "output_type": "display_data"
    }
   ],
   "source": [
    "fig, ax = plt.subplots(figsize=(10,8))\n",
    "sns.kdeplot(k_best.scores_)\n",
    "ax.set_xlabel('Feature Score', size = 15)\n",
    "ax.set_ylabel('Density of Features')\n",
    "ax.axvline(1.78, ls='--', color='red')\n",
    "\n",
    "plt.text(2.4 ,0.12, '(2.24, 0.112)')"
   ]
  },
  {
   "cell_type": "markdown",
   "metadata": {},
   "source": [
    "On sélectionne les gènes ayant un score supérieur à 1.78%"
   ]
  },
  {
   "cell_type": "code",
   "execution_count": 22,
   "metadata": {},
   "outputs": [
    {
     "data": {
      "image/png": "[encoded data removed]",
      "text/plain": [
       "<matplotlib.figure.Figure at 0x26ffbc17b00>"
      ]
     },
     "metadata": {
      "needs_background": "light"
     },
     "output_type": "display_data"
    }
   ],
   "source": [
    "x, y  = sns.kdeplot(k_best.scores_).get_lines()[0].get_data()"
   ]
  },
  {
   "cell_type": "code",
   "execution_count": 23,
   "metadata": {},
   "outputs": [],
   "source": [
    "thr_score = x[8]"
   ]
  },
  {
   "cell_type": "code",
   "execution_count": 24,
   "metadata": {},
   "outputs": [
    {
     "data": {
      "text/plain": [
       "2.2420433894249054"
      ]
     },
     "execution_count": 24,
     "metadata": {},
     "output_type": "execute_result"
    }
   ],
   "source": [
    "thr_score"
   ]
  },
  {
   "cell_type": "code",
   "execution_count": 25,
   "metadata": {},
   "outputs": [
    {
     "data": {
      "text/plain": [
       "0.11249803535453096"
      ]
     },
     "execution_count": 25,
     "metadata": {},
     "output_type": "execute_result"
    }
   ],
   "source": [
    "y[8]"
   ]
  },
  {
   "cell_type": "code",
   "execution_count": 28,
   "metadata": {},
   "outputs": [
    {
     "data": {
      "text/plain": [
       "(83, 11134)"
      ]
     },
     "execution_count": 28,
     "metadata": {},
     "output_type": "execute_result"
    }
   ],
   "source": [
    "df_arn_ad_filtered.shape"
   ]
  },
  {
   "cell_type": "code",
   "execution_count": 29,
   "metadata": {},
   "outputs": [],
   "source": [
    "mask_k = [(score > thr_score) for score in k_best.scores_]\n",
    "useful_filtered_genes = [g for m, g in zip(mask_k, df_arn_ad_filtered.iloc[:,1:].columns.tolist()) if m]\n",
    "\n",
    "df_filtered_best = df_arn_ad_filtered.loc[:,['scorad'] + useful_filtered_genes]"
   ]
  },
  {
   "cell_type": "code",
   "execution_count": 30,
   "metadata": {},
   "outputs": [
    {
     "data": {
      "text/plain": [
       "4581"
      ]
     },
     "execution_count": 30,
     "metadata": {},
     "output_type": "execute_result"
    }
   ],
   "source": [
    "len(useful_filtered_genes)"
   ]
  },
  {
   "cell_type": "code",
   "execution_count": 31,
   "metadata": {},
   "outputs": [
    {
     "data": {
      "text/plain": [
       "(83, 4582)"
      ]
     },
     "execution_count": 31,
     "metadata": {},
     "output_type": "execute_result"
    }
   ],
   "source": [
    "df_filtered_best.shape"
   ]
  },
  {
   "cell_type": "markdown",
   "metadata": {},
   "source": [
    "# ElasticNet"
   ]
  },
  {
   "cell_type": "code",
   "execution_count": 32,
   "metadata": {},
   "outputs": [
    {
     "data": {
      "text/html": [
       "<div>\n",
       "<style scoped>\n",
       "    .dataframe tbody tr th:only-of-type {\n",
       "        vertical-align: middle;\n",
       "    }\n",
       "\n",
       "    .dataframe tbody tr th {\n",
       "        vertical-align: top;\n",
       "    }\n",
       "\n",
       "    .dataframe thead th {\n",
       "        text-align: right;\n",
       "    }\n",
       "</style>\n",
       "<table border=\"1\" class=\"dataframe\">\n",
       "  <thead>\n",
       "    <tr style=\"text-align: right;\">\n",
       "      <th></th>\n",
       "      <th>scorad</th>\n",
       "      <th>ENSG00000000003_at</th>\n",
       "      <th>ENSG00000000005_at</th>\n",
       "      <th>ENSG00000000460_at</th>\n",
       "      <th>ENSG00000000938_at</th>\n",
       "      <th>ENSG00000000971_at</th>\n",
       "      <th>ENSG00000001561_at</th>\n",
       "      <th>ENSG00000001626_at</th>\n",
       "      <th>ENSG00000002016_at</th>\n",
       "      <th>ENSG00000002587_at</th>\n",
       "      <th>...</th>\n",
       "      <th>ENSG00000265996_at</th>\n",
       "      <th>ENSG00000266299_at</th>\n",
       "      <th>ENSG00000266324_at</th>\n",
       "      <th>ENSG00000266433_at</th>\n",
       "      <th>ENSG00000266509_at</th>\n",
       "      <th>ENSG00000266559_at</th>\n",
       "      <th>ENSG00000266614_at</th>\n",
       "      <th>ENSG00000266640_at</th>\n",
       "      <th>ENSG00000266824_at</th>\n",
       "      <th>ENSG00000266852_at</th>\n",
       "    </tr>\n",
       "    <tr>\n",
       "      <th>id_les</th>\n",
       "      <th></th>\n",
       "      <th></th>\n",
       "      <th></th>\n",
       "      <th></th>\n",
       "      <th></th>\n",
       "      <th></th>\n",
       "      <th></th>\n",
       "      <th></th>\n",
       "      <th></th>\n",
       "      <th></th>\n",
       "      <th></th>\n",
       "      <th></th>\n",
       "      <th></th>\n",
       "      <th></th>\n",
       "      <th></th>\n",
       "      <th></th>\n",
       "      <th></th>\n",
       "      <th></th>\n",
       "      <th></th>\n",
       "      <th></th>\n",
       "      <th></th>\n",
       "    </tr>\n",
       "  </thead>\n",
       "  <tbody>\n",
       "    <tr>\n",
       "      <th>MAARS_1_003_03</th>\n",
       "      <td>43.5</td>\n",
       "      <td>7.139</td>\n",
       "      <td>4.285</td>\n",
       "      <td>6.054</td>\n",
       "      <td>4.635</td>\n",
       "      <td>9.364</td>\n",
       "      <td>6.234</td>\n",
       "      <td>4.689</td>\n",
       "      <td>6.114</td>\n",
       "      <td>3.959</td>\n",
       "      <td>...</td>\n",
       "      <td>6.817</td>\n",
       "      <td>3.358</td>\n",
       "      <td>4.326</td>\n",
       "      <td>3.854</td>\n",
       "      <td>4.906</td>\n",
       "      <td>4.457</td>\n",
       "      <td>3.290</td>\n",
       "      <td>5.131</td>\n",
       "      <td>2.517</td>\n",
       "      <td>5.091</td>\n",
       "    </tr>\n",
       "    <tr>\n",
       "      <th>MAARS_1_008_03</th>\n",
       "      <td>57.5</td>\n",
       "      <td>7.282</td>\n",
       "      <td>4.058</td>\n",
       "      <td>6.025</td>\n",
       "      <td>4.449</td>\n",
       "      <td>8.690</td>\n",
       "      <td>5.761</td>\n",
       "      <td>4.262</td>\n",
       "      <td>6.199</td>\n",
       "      <td>4.095</td>\n",
       "      <td>...</td>\n",
       "      <td>6.542</td>\n",
       "      <td>3.509</td>\n",
       "      <td>4.438</td>\n",
       "      <td>3.673</td>\n",
       "      <td>4.586</td>\n",
       "      <td>4.375</td>\n",
       "      <td>3.276</td>\n",
       "      <td>5.625</td>\n",
       "      <td>2.600</td>\n",
       "      <td>4.887</td>\n",
       "    </tr>\n",
       "    <tr>\n",
       "      <th>MAARS_1_016_03</th>\n",
       "      <td>73.0</td>\n",
       "      <td>7.441</td>\n",
       "      <td>3.881</td>\n",
       "      <td>6.336</td>\n",
       "      <td>5.228</td>\n",
       "      <td>8.499</td>\n",
       "      <td>5.987</td>\n",
       "      <td>4.254</td>\n",
       "      <td>6.510</td>\n",
       "      <td>4.526</td>\n",
       "      <td>...</td>\n",
       "      <td>6.269</td>\n",
       "      <td>3.022</td>\n",
       "      <td>4.399</td>\n",
       "      <td>3.735</td>\n",
       "      <td>4.787</td>\n",
       "      <td>4.503</td>\n",
       "      <td>2.796</td>\n",
       "      <td>5.630</td>\n",
       "      <td>2.496</td>\n",
       "      <td>4.475</td>\n",
       "    </tr>\n",
       "    <tr>\n",
       "      <th>MAARS_1_017_03</th>\n",
       "      <td>78.5</td>\n",
       "      <td>7.019</td>\n",
       "      <td>3.571</td>\n",
       "      <td>5.692</td>\n",
       "      <td>4.850</td>\n",
       "      <td>8.728</td>\n",
       "      <td>5.644</td>\n",
       "      <td>5.132</td>\n",
       "      <td>5.859</td>\n",
       "      <td>4.337</td>\n",
       "      <td>...</td>\n",
       "      <td>6.744</td>\n",
       "      <td>2.871</td>\n",
       "      <td>4.369</td>\n",
       "      <td>4.047</td>\n",
       "      <td>4.841</td>\n",
       "      <td>4.528</td>\n",
       "      <td>2.939</td>\n",
       "      <td>5.332</td>\n",
       "      <td>2.450</td>\n",
       "      <td>5.427</td>\n",
       "    </tr>\n",
       "    <tr>\n",
       "      <th>MAARS_1_044_03</th>\n",
       "      <td>64.5</td>\n",
       "      <td>7.115</td>\n",
       "      <td>3.844</td>\n",
       "      <td>5.923</td>\n",
       "      <td>4.439</td>\n",
       "      <td>7.626</td>\n",
       "      <td>4.710</td>\n",
       "      <td>3.965</td>\n",
       "      <td>6.169</td>\n",
       "      <td>3.727</td>\n",
       "      <td>...</td>\n",
       "      <td>6.809</td>\n",
       "      <td>3.683</td>\n",
       "      <td>4.420</td>\n",
       "      <td>4.094</td>\n",
       "      <td>5.245</td>\n",
       "      <td>4.003</td>\n",
       "      <td>2.628</td>\n",
       "      <td>5.429</td>\n",
       "      <td>2.748</td>\n",
       "      <td>4.922</td>\n",
       "    </tr>\n",
       "  </tbody>\n",
       "</table>\n",
       "<p>5 rows × 4582 columns</p>\n",
       "</div>"
      ],
      "text/plain": [
       "                scorad  ENSG00000000003_at  ENSG00000000005_at  \\\n",
       "id_les                                                           \n",
       "MAARS_1_003_03    43.5               7.139               4.285   \n",
       "MAARS_1_008_03    57.5               7.282               4.058   \n",
       "MAARS_1_016_03    73.0               7.441               3.881   \n",
       "MAARS_1_017_03    78.5               7.019               3.571   \n",
       "MAARS_1_044_03    64.5               7.115               3.844   \n",
       "\n",
       "                ENSG00000000460_at  ENSG00000000938_at  ENSG00000000971_at  \\\n",
       "id_les                                                                       \n",
       "MAARS_1_003_03               6.054               4.635               9.364   \n",
       "MAARS_1_008_03               6.025               4.449               8.690   \n",
       "MAARS_1_016_03               6.336               5.228               8.499   \n",
       "MAARS_1_017_03               5.692               4.850               8.728   \n",
       "MAARS_1_044_03               5.923               4.439               7.626   \n",
       "\n",
       "                ENSG00000001561_at  ENSG00000001626_at  ENSG00000002016_at  \\\n",
       "id_les                                                                       \n",
       "MAARS_1_003_03               6.234               4.689               6.114   \n",
       "MAARS_1_008_03               5.761               4.262               6.199   \n",
       "MAARS_1_016_03               5.987               4.254               6.510   \n",
       "MAARS_1_017_03               5.644               5.132               5.859   \n",
       "MAARS_1_044_03               4.710               3.965               6.169   \n",
       "\n",
       "                ENSG00000002587_at         ...          ENSG00000265996_at  \\\n",
       "id_les                                     ...                               \n",
       "MAARS_1_003_03               3.959         ...                       6.817   \n",
       "MAARS_1_008_03               4.095         ...                       6.542   \n",
       "MAARS_1_016_03               4.526         ...                       6.269   \n",
       "MAARS_1_017_03               4.337         ...                       6.744   \n",
       "MAARS_1_044_03               3.727         ...                       6.809   \n",
       "\n",
       "                ENSG00000266299_at  ENSG00000266324_at  ENSG00000266433_at  \\\n",
       "id_les                                                                       \n",
       "MAARS_1_003_03               3.358               4.326               3.854   \n",
       "MAARS_1_008_03               3.509               4.438               3.673   \n",
       "MAARS_1_016_03               3.022               4.399               3.735   \n",
       "MAARS_1_017_03               2.871               4.369               4.047   \n",
       "MAARS_1_044_03               3.683               4.420               4.094   \n",
       "\n",
       "                ENSG00000266509_at  ENSG00000266559_at  ENSG00000266614_at  \\\n",
       "id_les                                                                       \n",
       "MAARS_1_003_03               4.906               4.457               3.290   \n",
       "MAARS_1_008_03               4.586               4.375               3.276   \n",
       "MAARS_1_016_03               4.787               4.503               2.796   \n",
       "MAARS_1_017_03               4.841               4.528               2.939   \n",
       "MAARS_1_044_03               5.245               4.003               2.628   \n",
       "\n",
       "                ENSG00000266640_at  ENSG00000266824_at  ENSG00000266852_at  \n",
       "id_les                                                                      \n",
       "MAARS_1_003_03               5.131               2.517               5.091  \n",
       "MAARS_1_008_03               5.625               2.600               4.887  \n",
       "MAARS_1_016_03               5.630               2.496               4.475  \n",
       "MAARS_1_017_03               5.332               2.450               5.427  \n",
       "MAARS_1_044_03               5.429               2.748               4.922  \n",
       "\n",
       "[5 rows x 4582 columns]"
      ]
     },
     "execution_count": 32,
     "metadata": {},
     "output_type": "execute_result"
    }
   ],
   "source": [
    "df_filtered_best.head()"
   ]
  },
  {
   "cell_type": "code",
   "execution_count": 33,
   "metadata": {},
   "outputs": [],
   "source": [
    "from sklearn.linear_model import ElasticNet\n",
    "\n",
    "elastic = ElasticNet(l1_ratio = .001)"
   ]
  },
  {
   "cell_type": "code",
   "execution_count": 34,
   "metadata": {},
   "outputs": [
    {
     "name": "stderr",
     "output_type": "stream",
     "text": [
      "C:\\Users\\skander\\Anaconda3\\lib\\site-packages\\sklearn\\linear_model\\coordinate_descent.py:491: ConvergenceWarning: Objective did not converge. You might want to increase the number of iterations. Fitting data with very small alpha may cause precision problems.\n",
      "  ConvergenceWarning)\n"
     ]
    },
    {
     "data": {
      "text/plain": [
       "ElasticNet(alpha=1.0, copy_X=True, fit_intercept=True, l1_ratio=0.001,\n",
       "      max_iter=1000, normalize=False, positive=False, precompute=False,\n",
       "      random_state=None, selection='cyclic', tol=0.0001, warm_start=False)"
      ]
     },
     "execution_count": 34,
     "metadata": {},
     "output_type": "execute_result"
    }
   ],
   "source": [
    "elastic.fit(df_filtered_best.iloc[:,1:], df_filtered_best.iloc[:,0])"
   ]
  },
  {
   "cell_type": "code",
   "execution_count": 35,
   "metadata": {},
   "outputs": [
    {
     "data": {
      "text/plain": [
       "4505"
      ]
     },
     "execution_count": 35,
     "metadata": {},
     "output_type": "execute_result"
    }
   ],
   "source": [
    "len(elastic.coef_[elastic.coef_!=0])"
   ]
  },
  {
   "cell_type": "code",
   "execution_count": 36,
   "metadata": {},
   "outputs": [],
   "source": [
    "elastic_genes = df_filtered_best.iloc[:,1:].columns[elastic.coef_!=0]"
   ]
  },
  {
   "cell_type": "code",
   "execution_count": 37,
   "metadata": {},
   "outputs": [],
   "source": [
    "result = pd.DataFrame( {'Genes': elastic_genes, 'ElasticNet coef (abs)' : abs(elastic.coef_[elastic.coef_!=0]),\n",
    "                       'ElasticNet coef' : elastic.coef_[elastic.coef_!=0]}).sort_values(by='ElasticNet coef (abs)', ascending=False)"
   ]
  },
  {
   "cell_type": "code",
   "execution_count": 38,
   "metadata": {},
   "outputs": [
    {
     "data": {
      "text/html": [
       "<div>\n",
       "<style scoped>\n",
       "    .dataframe tbody tr th:only-of-type {\n",
       "        vertical-align: middle;\n",
       "    }\n",
       "\n",
       "    .dataframe tbody tr th {\n",
       "        vertical-align: top;\n",
       "    }\n",
       "\n",
       "    .dataframe thead th {\n",
       "        text-align: right;\n",
       "    }\n",
       "</style>\n",
       "<table border=\"1\" class=\"dataframe\">\n",
       "  <thead>\n",
       "    <tr style=\"text-align: right;\">\n",
       "      <th></th>\n",
       "      <th>ElasticNet coef</th>\n",
       "      <th>ElasticNet coef (abs)</th>\n",
       "      <th>Genes</th>\n",
       "    </tr>\n",
       "  </thead>\n",
       "  <tbody>\n",
       "    <tr>\n",
       "      <th>2281</th>\n",
       "      <td>-0.494417</td>\n",
       "      <td>0.494417</td>\n",
       "      <td>ENSG00000170345_at</td>\n",
       "    </tr>\n",
       "    <tr>\n",
       "      <th>3687</th>\n",
       "      <td>0.475388</td>\n",
       "      <td>0.475388</td>\n",
       "      <td>ENSG00000227827_at</td>\n",
       "    </tr>\n",
       "    <tr>\n",
       "      <th>847</th>\n",
       "      <td>-0.340621</td>\n",
       "      <td>0.340621</td>\n",
       "      <td>ENSG00000116690_at</td>\n",
       "    </tr>\n",
       "    <tr>\n",
       "      <th>67</th>\n",
       "      <td>0.313179</td>\n",
       "      <td>0.313179</td>\n",
       "      <td>ENSG00000012223_at</td>\n",
       "    </tr>\n",
       "    <tr>\n",
       "      <th>3366</th>\n",
       "      <td>0.291081</td>\n",
       "      <td>0.291081</td>\n",
       "      <td>ENSG00000211952_at</td>\n",
       "    </tr>\n",
       "  </tbody>\n",
       "</table>\n",
       "</div>"
      ],
      "text/plain": [
       "      ElasticNet coef  ElasticNet coef (abs)               Genes\n",
       "2281        -0.494417               0.494417  ENSG00000170345_at\n",
       "3687         0.475388               0.475388  ENSG00000227827_at\n",
       "847         -0.340621               0.340621  ENSG00000116690_at\n",
       "67           0.313179               0.313179  ENSG00000012223_at\n",
       "3366         0.291081               0.291081  ENSG00000211952_at"
      ]
     },
     "execution_count": 38,
     "metadata": {},
     "output_type": "execute_result"
    }
   ],
   "source": [
    "result.head()"
   ]
  },
  {
   "cell_type": "code",
   "execution_count": 52,
   "metadata": {},
   "outputs": [],
   "source": [
    "result.to_csv('genes_elasticnet.csv')"
   ]
  },
  {
   "cell_type": "code",
   "execution_count": null,
   "metadata": {},
   "outputs": [],
   "source": []
  },
  {
   "cell_type": "code",
   "execution_count": null,
   "metadata": {},
   "outputs": [],
   "source": []
  }
 ],
 "metadata": {
  "kernelspec": {
   "display_name": "Python 3",
   "language": "python",
   "name": "python3"
  },
  "language_info": {
   "codemirror_mode": {
    "name": "ipython",
    "version": 3
   },
   "file_extension": ".py",
   "mimetype": "text/x-python",
   "name": "python",
   "nbconvert_exporter": "python",
   "pygments_lexer": "ipython3",
   "version": "3.6.4"
  }
 },
 "nbformat": 4,
 "nbformat_minor": 2
}
