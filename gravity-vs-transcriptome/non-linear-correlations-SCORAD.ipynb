{
 "cells": [
  {
   "cell_type": "code",
   "execution_count": 23,
   "metadata": {},
   "outputs": [],
   "source": [
    "import pandas as pd\n",
    "import numpy as np\n",
    "import matplotlib.pyplot as plt\n",
    "import dcor\n",
    "from minepy import MINE\n",
    "from sklearn.tree import DecisionTreeRegressor"
   ]
  },
  {
   "cell_type": "markdown",
   "metadata": {},
   "source": [
    "## merge clinical and transcriptome data"
   ]
  },
  {
   "cell_type": "code",
   "execution_count": 14,
   "metadata": {},
   "outputs": [],
   "source": [
    "df_clin = pd.read_csv('../data/MAARS_AD_full_20190131_12-34-49.csv', sep='\\t')\n",
    "df_clin_all = pd.read_csv('../data/MAARS_all_Fri_Apr_04_14h_CEST_2014.csv', sep='\\t')\n",
    "df_gen = pd.read_csv('../data/MAARS_normTranscriptome_618samples_16042014.txt', sep='\\t')\n",
    "\n",
    "df_genenames = pd.read_csv('../data/ensembl2gene.txt')\n",
    "\n",
    "df_clin = df_clin.fillna('NaN')\n",
    "df_gen_t = df_gen.transpose()\n",
    "\n",
    "gene_cols = df_gen_t.columns"
   ]
  },
  {
   "cell_type": "code",
   "execution_count": 4,
   "metadata": {},
   "outputs": [],
   "source": [
    "df_merge1 = pd.merge(df_gen_t, df_clin_all, how='left', left_index=True, right_on='sample_id')\n",
    "\n",
    "df_merge2 = pd.merge(df_clin, df_merge1, \n",
    "                     left_on='involved skin biopsy#involved skin biopsy#MAARS Sample identifier (MAARS_Sample_identifier)', \n",
    "                     right_on='sample_id', how='inner')"
   ]
  },
  {
   "cell_type": "markdown",
   "metadata": {},
   "source": [
    "## check properties of merged dataframe"
   ]
  },
  {
   "cell_type": "code",
   "execution_count": 5,
   "metadata": {},
   "outputs": [
    {
     "name": "stdout",
     "output_type": "stream",
     "text": [
      "\n",
      "LES    83\n",
      "Name: lesional, dtype: int64\n",
      "\n",
      "Male      47\n",
      "Female    36\n",
      "Name: Gender, dtype: int64\n",
      "\n",
      "AD    83\n",
      "Name: clinical_group, dtype: int64\n",
      "\n",
      "posterior_thigh    44\n",
      "upper_back         37\n",
      "lower_back          2\n",
      "Name: anatomical_location, dtype: int64\n"
     ]
    }
   ],
   "source": [
    "for col in ['lesional', 'Gender', 'clinical_group', 'anatomical_location']:\n",
    "    print()\n",
    "    print(df_merge2[col].value_counts())\n"
   ]
  },
  {
   "cell_type": "code",
   "execution_count": 6,
   "metadata": {},
   "outputs": [
    {
     "data": {
      "text/plain": [
       "<matplotlib.text.Text at 0x11b5dd668>"
      ]
     },
     "execution_count": 6,
     "metadata": {},
     "output_type": "execute_result"
    },
    {
     "data": {
      "image/png": "[encoded data removed]",
      "text/plain": [
       "<matplotlib.figure.Figure at 0x11a135d68>"
      ]
     },
     "metadata": {
      "needs_background": "light"
     },
     "output_type": "display_data"
    }
   ],
   "source": [
    "df_merge2['patient#SCORAD index#SCORAD#SCORAD Score (SCORAD_Score)'].hist()\n",
    "plt.xlabel('Scorad Score')"
   ]
  },
  {
   "cell_type": "markdown",
   "metadata": {},
   "source": [
    "## Non-linear correlations between Scorad Score and expression level of each gene"
   ]
  },
  {
   "cell_type": "code",
   "execution_count": 7,
   "metadata": {},
   "outputs": [],
   "source": [
    "# target                                                  \n",
    "target_col = 'patient#SCORAD index#SCORAD#SCORAD Score (SCORAD_Score)'          \n",
    "y = df_merge2[target_col].values                           \n",
    "                                                              \n",
    "# genes                                                   \n",
    "X = df_merge2[gene_cols].values               \n",
    "                                                              \n",
    "mic_scores = []                                           \n",
    "distance_correlation = []                                 \n",
    "# loop over all genes                                     \n",
    "for x in X.T:                                             \n",
    "                                                          \n",
    "    mine = MINE(alpha=0.6, c=15, est=\"mic_approx\")        \n",
    "    mine.compute_score(x, y)                              \n",
    "                                                            \n",
    "    mic_scores.append(mine.mic())                         \n",
    "                                                              \n",
    "    dc = dcor.distance_correlation(x,y)\n",
    "                                                              \n",
    "    distance_correlation.append(dc)                       \n",
    "                                                        "
   ]
  },
  {
   "cell_type": "markdown",
   "metadata": {},
   "source": [
    "#### non-linear correlation value for random gene vectors drawn from the same distribution"
   ]
  },
  {
   "cell_type": "code",
   "execution_count": 8,
   "metadata": {},
   "outputs": [],
   "source": [
    "# get values for random vectors\n",
    "nsamples = 50\n",
    "mic_scores_random = []\n",
    "distance_correlation_random = []\n",
    "for i in range(nsamples):\n",
    "    x_sampled = np.random.choice(X.flatten(), size=len(y))\n",
    "    mine = MINE(alpha=0.6, c=15, est=\"mic_approx\")\n",
    "    mine.compute_score(x_sampled, y)\n",
    "    mic_scores_random.append(mine.mic())\n",
    "\n",
    "    dc = dcor.distance_correlation(x,y)\n",
    "\n",
    "    distance_correlation_random.append(dc)\n",
    "\n"
   ]
  },
  {
   "cell_type": "code",
   "execution_count": 9,
   "metadata": {},
   "outputs": [
    {
     "data": {
      "image/png": "[encoded data removed]",
      "text/plain": [
       "<matplotlib.figure.Figure at 0x11a307208>"
      ]
     },
     "metadata": {
      "needs_background": "light"
     },
     "output_type": "display_data"
    },
    {
     "data": {
      "image/png": "[encoded data removed]",
      "text/plain": [
       "<matplotlib.figure.Figure at 0x11aa4db38>"
      ]
     },
     "metadata": {
      "needs_background": "light"
     },
     "output_type": "display_data"
    }
   ],
   "source": [
    "plt.clf()\n",
    "plt.hist(distance_correlation)\n",
    "plt.axvline(np.asarray(distance_correlation_random).mean(), color='k')\n",
    "plt.xlabel('distance correlation')\n",
    "plt.title('vertical line = value for random non-correlated sample of size {}'.format(len(y)))\n",
    "#plt.savefig('distance_correlation.png', bbox_inches='tight')\n",
    "plt.show()\n",
    "\n",
    "plt.clf()\n",
    "plt.hist(mic_scores)\n",
    "plt.axvline(np.asarray(mic_scores_random).mean(), color='k')\n",
    "plt.xlabel('Maximal Information Coefficiant')\n",
    "plt.title('vertical line = value for random non-correlated sample of size {}'.format(len(y)))\n",
    "#plt.savefig('mic.png', bbox_inches='tight')\n",
    "plt.show()"
   ]
  },
  {
   "cell_type": "markdown",
   "metadata": {},
   "source": [
    "### Is there a correlation between the two measures of non-linear SCORAD/gene correlation ?"
   ]
  },
  {
   "cell_type": "code",
   "execution_count": 10,
   "metadata": {},
   "outputs": [
    {
     "data": {
      "text/plain": [
       "<matplotlib.text.Text at 0x11ade0eb8>"
      ]
     },
     "execution_count": 10,
     "metadata": {},
     "output_type": "execute_result"
    },
    {
     "data": {
      "image/png": "[encoded data removed]",
      "text/plain": [
       "<matplotlib.figure.Figure at 0x11b76e6a0>"
      ]
     },
     "metadata": {
      "needs_background": "light"
     },
     "output_type": "display_data"
    }
   ],
   "source": [
    "plt.clf()\n",
    "plt.scatter(distance_correlation, mic_scores)\n",
    "plt.xlabel('distance correlation')\n",
    "plt.ylabel('Maximal Information Coefficiant')"
   ]
  },
  {
   "cell_type": "markdown",
   "metadata": {},
   "source": [
    "### genes with highest correlation with SCORAD score"
   ]
  },
  {
   "cell_type": "code",
   "execution_count": 17,
   "metadata": {},
   "outputs": [],
   "source": [
    "df_results = pd.DataFrame({'distance_correlation': distance_correlation, \n",
    "                           'mic': mic_scores, \n",
    "                           'gene_names': gene_cols})\n",
    "df_results['EnsemblID'] = df_results['gene_names'].str.slice(0,15)\n",
    "df_results = pd.merge(df_results, df_genenames, on='EnsemblID', how='left')"
   ]
  },
  {
   "cell_type": "code",
   "execution_count": 18,
   "metadata": {},
   "outputs": [
    {
     "data": {
      "text/html": [
       "<div>\n",
       "<style scoped>\n",
       "    .dataframe tbody tr th:only-of-type {\n",
       "        vertical-align: middle;\n",
       "    }\n",
       "\n",
       "    .dataframe tbody tr th {\n",
       "        vertical-align: top;\n",
       "    }\n",
       "\n",
       "    .dataframe thead th {\n",
       "        text-align: right;\n",
       "    }\n",
       "</style>\n",
       "<table border=\"1\" class=\"dataframe\">\n",
       "  <thead>\n",
       "    <tr style=\"text-align: right;\">\n",
       "      <th></th>\n",
       "      <th>distance_correlation</th>\n",
       "      <th>mic</th>\n",
       "      <th>gene_names</th>\n",
       "      <th>EnsemblID</th>\n",
       "      <th>GeneSymbol</th>\n",
       "    </tr>\n",
       "  </thead>\n",
       "  <tbody>\n",
       "    <tr>\n",
       "      <th>9479</th>\n",
       "      <td>0.622199</td>\n",
       "      <td>0.586804</td>\n",
       "      <td>ENSG00000153993_at</td>\n",
       "      <td>ENSG00000153993</td>\n",
       "      <td>SEMA3D</td>\n",
       "    </tr>\n",
       "    <tr>\n",
       "      <th>15514</th>\n",
       "      <td>0.537866</td>\n",
       "      <td>0.570310</td>\n",
       "      <td>ENSG00000186205_at</td>\n",
       "      <td>ENSG00000186205</td>\n",
       "      <td>MARC1</td>\n",
       "    </tr>\n",
       "    <tr>\n",
       "      <th>5662</th>\n",
       "      <td>0.445726</td>\n",
       "      <td>0.561462</td>\n",
       "      <td>ENSG00000126016_at</td>\n",
       "      <td>ENSG00000126016</td>\n",
       "      <td>AMOT</td>\n",
       "    </tr>\n",
       "    <tr>\n",
       "      <th>27006</th>\n",
       "      <td>0.253284</td>\n",
       "      <td>0.521024</td>\n",
       "      <td>ENSG00000242736_at</td>\n",
       "      <td>ENSG00000242736</td>\n",
       "      <td>TRBV1</td>\n",
       "    </tr>\n",
       "    <tr>\n",
       "      <th>1791</th>\n",
       "      <td>0.412746</td>\n",
       "      <td>0.513236</td>\n",
       "      <td>ENSG00000089009_at</td>\n",
       "      <td>ENSG00000089009</td>\n",
       "      <td>RPL6</td>\n",
       "    </tr>\n",
       "    <tr>\n",
       "      <th>25913</th>\n",
       "      <td>0.241020</td>\n",
       "      <td>0.509332</td>\n",
       "      <td>ENSG00000237556_at</td>\n",
       "      <td>ENSG00000237556</td>\n",
       "      <td>KCND3-AS1</td>\n",
       "    </tr>\n",
       "    <tr>\n",
       "      <th>5177</th>\n",
       "      <td>0.235284</td>\n",
       "      <td>0.507582</td>\n",
       "      <td>ENSG00000122550_at</td>\n",
       "      <td>ENSG00000122550</td>\n",
       "      <td>KLHL7</td>\n",
       "    </tr>\n",
       "    <tr>\n",
       "      <th>5377</th>\n",
       "      <td>0.465945</td>\n",
       "      <td>0.501449</td>\n",
       "      <td>ENSG00000124224_at</td>\n",
       "      <td>ENSG00000124224</td>\n",
       "      <td>PPP4R1L</td>\n",
       "    </tr>\n",
       "    <tr>\n",
       "      <th>10476</th>\n",
       "      <td>0.409378</td>\n",
       "      <td>0.498065</td>\n",
       "      <td>ENSG00000162437_at</td>\n",
       "      <td>ENSG00000162437</td>\n",
       "      <td>RAVER2</td>\n",
       "    </tr>\n",
       "    <tr>\n",
       "      <th>12905</th>\n",
       "      <td>0.466789</td>\n",
       "      <td>0.494672</td>\n",
       "      <td>ENSG00000172201_at</td>\n",
       "      <td>ENSG00000172201</td>\n",
       "      <td>ID4</td>\n",
       "    </tr>\n",
       "  </tbody>\n",
       "</table>\n",
       "</div>"
      ],
      "text/plain": [
       "       distance_correlation       mic          gene_names        EnsemblID  \\\n",
       "9479               0.622199  0.586804  ENSG00000153993_at  ENSG00000153993   \n",
       "15514              0.537866  0.570310  ENSG00000186205_at  ENSG00000186205   \n",
       "5662               0.445726  0.561462  ENSG00000126016_at  ENSG00000126016   \n",
       "27006              0.253284  0.521024  ENSG00000242736_at  ENSG00000242736   \n",
       "1791               0.412746  0.513236  ENSG00000089009_at  ENSG00000089009   \n",
       "25913              0.241020  0.509332  ENSG00000237556_at  ENSG00000237556   \n",
       "5177               0.235284  0.507582  ENSG00000122550_at  ENSG00000122550   \n",
       "5377               0.465945  0.501449  ENSG00000124224_at  ENSG00000124224   \n",
       "10476              0.409378  0.498065  ENSG00000162437_at  ENSG00000162437   \n",
       "12905              0.466789  0.494672  ENSG00000172201_at  ENSG00000172201   \n",
       "\n",
       "      GeneSymbol  \n",
       "9479      SEMA3D  \n",
       "15514      MARC1  \n",
       "5662        AMOT  \n",
       "27006      TRBV1  \n",
       "1791        RPL6  \n",
       "25913  KCND3-AS1  \n",
       "5177       KLHL7  \n",
       "5377     PPP4R1L  \n",
       "10476     RAVER2  \n",
       "12905        ID4  "
      ]
     },
     "execution_count": 18,
     "metadata": {},
     "output_type": "execute_result"
    }
   ],
   "source": [
    "df_results.sort_values(by='mic', ascending=False).head(10)"
   ]
  },
  {
   "cell_type": "code",
   "execution_count": 19,
   "metadata": {},
   "outputs": [
    {
     "data": {
      "text/html": [
       "<div>\n",
       "<style scoped>\n",
       "    .dataframe tbody tr th:only-of-type {\n",
       "        vertical-align: middle;\n",
       "    }\n",
       "\n",
       "    .dataframe tbody tr th {\n",
       "        vertical-align: top;\n",
       "    }\n",
       "\n",
       "    .dataframe thead th {\n",
       "        text-align: right;\n",
       "    }\n",
       "</style>\n",
       "<table border=\"1\" class=\"dataframe\">\n",
       "  <thead>\n",
       "    <tr style=\"text-align: right;\">\n",
       "      <th></th>\n",
       "      <th>distance_correlation</th>\n",
       "      <th>mic</th>\n",
       "      <th>gene_names</th>\n",
       "      <th>EnsemblID</th>\n",
       "      <th>GeneSymbol</th>\n",
       "    </tr>\n",
       "  </thead>\n",
       "  <tbody>\n",
       "    <tr>\n",
       "      <th>9479</th>\n",
       "      <td>0.622199</td>\n",
       "      <td>0.586804</td>\n",
       "      <td>ENSG00000153993_at</td>\n",
       "      <td>ENSG00000153993</td>\n",
       "      <td>SEMA3D</td>\n",
       "    </tr>\n",
       "    <tr>\n",
       "      <th>37</th>\n",
       "      <td>0.572121</td>\n",
       "      <td>0.371095</td>\n",
       "      <td>ENSG00000003400_at</td>\n",
       "      <td>ENSG00000003400</td>\n",
       "      <td>CASP10</td>\n",
       "    </tr>\n",
       "    <tr>\n",
       "      <th>9329</th>\n",
       "      <td>0.564277</td>\n",
       "      <td>0.477909</td>\n",
       "      <td>ENSG00000152580_at</td>\n",
       "      <td>ENSG00000152580</td>\n",
       "      <td>IGSF10</td>\n",
       "    </tr>\n",
       "    <tr>\n",
       "      <th>10172</th>\n",
       "      <td>0.547896</td>\n",
       "      <td>0.418335</td>\n",
       "      <td>ENSG00000160097_at</td>\n",
       "      <td>ENSG00000160097</td>\n",
       "      <td>FNDC5</td>\n",
       "    </tr>\n",
       "    <tr>\n",
       "      <th>30763</th>\n",
       "      <td>0.545379</td>\n",
       "      <td>0.476615</td>\n",
       "      <td>ENSG00000256433_at</td>\n",
       "      <td>ENSG00000256433</td>\n",
       "      <td>RP1-102E24.8</td>\n",
       "    </tr>\n",
       "    <tr>\n",
       "      <th>5233</th>\n",
       "      <td>0.545161</td>\n",
       "      <td>0.414835</td>\n",
       "      <td>ENSG00000123095_at</td>\n",
       "      <td>ENSG00000123095</td>\n",
       "      <td>BHLHE41</td>\n",
       "    </tr>\n",
       "    <tr>\n",
       "      <th>7622</th>\n",
       "      <td>0.542191</td>\n",
       "      <td>0.444296</td>\n",
       "      <td>ENSG00000139292_at</td>\n",
       "      <td>ENSG00000139292</td>\n",
       "      <td>LGR5</td>\n",
       "    </tr>\n",
       "    <tr>\n",
       "      <th>4766</th>\n",
       "      <td>0.541390</td>\n",
       "      <td>0.428414</td>\n",
       "      <td>ENSG00000118900_at</td>\n",
       "      <td>ENSG00000118900</td>\n",
       "      <td>UBN1</td>\n",
       "    </tr>\n",
       "    <tr>\n",
       "      <th>6804</th>\n",
       "      <td>0.539327</td>\n",
       "      <td>0.449149</td>\n",
       "      <td>ENSG00000134851_at</td>\n",
       "      <td>ENSG00000134851</td>\n",
       "      <td>TMEM165</td>\n",
       "    </tr>\n",
       "    <tr>\n",
       "      <th>15514</th>\n",
       "      <td>0.537866</td>\n",
       "      <td>0.570310</td>\n",
       "      <td>ENSG00000186205_at</td>\n",
       "      <td>ENSG00000186205</td>\n",
       "      <td>MARC1</td>\n",
       "    </tr>\n",
       "  </tbody>\n",
       "</table>\n",
       "</div>"
      ],
      "text/plain": [
       "       distance_correlation       mic          gene_names        EnsemblID  \\\n",
       "9479               0.622199  0.586804  ENSG00000153993_at  ENSG00000153993   \n",
       "37                 0.572121  0.371095  ENSG00000003400_at  ENSG00000003400   \n",
       "9329               0.564277  0.477909  ENSG00000152580_at  ENSG00000152580   \n",
       "10172              0.547896  0.418335  ENSG00000160097_at  ENSG00000160097   \n",
       "30763              0.545379  0.476615  ENSG00000256433_at  ENSG00000256433   \n",
       "5233               0.545161  0.414835  ENSG00000123095_at  ENSG00000123095   \n",
       "7622               0.542191  0.444296  ENSG00000139292_at  ENSG00000139292   \n",
       "4766               0.541390  0.428414  ENSG00000118900_at  ENSG00000118900   \n",
       "6804               0.539327  0.449149  ENSG00000134851_at  ENSG00000134851   \n",
       "15514              0.537866  0.570310  ENSG00000186205_at  ENSG00000186205   \n",
       "\n",
       "         GeneSymbol  \n",
       "9479         SEMA3D  \n",
       "37           CASP10  \n",
       "9329         IGSF10  \n",
       "10172         FNDC5  \n",
       "30763  RP1-102E24.8  \n",
       "5233        BHLHE41  \n",
       "7622           LGR5  \n",
       "4766           UBN1  \n",
       "6804        TMEM165  \n",
       "15514         MARC1  "
      ]
     },
     "execution_count": 19,
     "metadata": {},
     "output_type": "execute_result"
    }
   ],
   "source": [
    "df_results.sort_values(by='distance_correlation', ascending=False).head(10)"
   ]
  },
  {
   "cell_type": "code",
   "execution_count": null,
   "metadata": {},
   "outputs": [],
   "source": []
  }
 ],
 "metadata": {
  "kernelspec": {
   "display_name": "Python 3",
   "language": "python",
   "name": "python3"
  },
  "language_info": {
   "codemirror_mode": {
    "name": "ipython",
    "version": 3
   },
   "file_extension": ".py",
   "mimetype": "text/x-python",
   "name": "python",
   "nbconvert_exporter": "python",
   "pygments_lexer": "ipython3",
   "version": "3.6.1"
  }
 },
 "nbformat": 4,
 "nbformat_minor": 2
}
